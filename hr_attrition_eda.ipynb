{
 "cells": [
  {
   "cell_type": "markdown",
   "id": "5d37cd0f-db1b-4d74-8522-e55fefc916e0",
   "metadata": {},
   "source": [
    "# Exploratory Analysis of Employee Attrition Trends\n",
    "By: Tania Green"
   ]
  },
  {
   "cell_type": "markdown",
   "id": "01ca059c-7795-4077-893e-7170cfb08966",
   "metadata": {},
   "source": [
    "## Introduction\n",
    "\n",
    "In this project, I explored an HR dataset to identify the factors associated with employee attrition. The goal is to uncover patterns that can help organizations better understand what drives attrition and whether these contributing factors vary across departments.\n",
    "\n",
    "**Research question:** \n",
    "Which departments experience the highest attrition, and what employee-level factors may be contributing to this trend?\n",
    "\n",
    "**Target:** `Attrition` - whether or not an employee has left the company\n",
    "\n",
    "**Dataset Source:**\n",
    "IBM HR Analytics Employee Attrition & Performance<br>\n",
    "[Kaggle Dataset Link](https://www.kaggle.com/datasets/pavansubhasht/ibm-hr-analytics-attrition-dataset)"
   ]
  },
  {
   "cell_type": "markdown",
   "id": "7a94ad64-f6a7-43cb-9323-55efe1f0f19a",
   "metadata": {},
   "source": [
    "### Field Definitions\n",
    "\n",
    "* **Age:** Age of the employee\n",
    "* **Attrition:** Whether the employee left the company (Yes or No)\n",
    "* **BusinessTravel:** Frequency of business travel\n",
    "* **DailyRate:** Base pay\n",
    "* **Department:** Department: Sales, Research & Development, or Human Resources\n",
    "* **DistanceFromHome:** Distance from home to workplace (in km)\n",
    "* **Education:** Coded from 1 to 5: 1 = 'Below College', 2 = 'College', 3 = 'Bachelor', 4 = 'Master', 5 = 'Doctor'\n",
    "* **EducationField:** Field of study (e.g., Life Sciences, Medical, Technical Degree)\n",
    "* **EmployeeCount:** Always 1\n",
    "* **EmployeeNumber:** Unique identifier for each employee\n",
    "* **EnvironmentSatisfaction:** Satisfaction with work environment (1 = Low to 4 = Very High)\n",
    "* **Gender:** Male or Female\n",
    "* **HourlyRate:** Base pay\n",
    "* **JobInvolvement:** Employee’s level of involvement (1 to 4)\n",
    "* **JobLevel:** Level of the job in the organization (1 to 5)\n",
    "* **JobRole:** Employee's job title\n",
    "* **JobSatisfaction:** Satisfaction with job (1 = Low to 4 = Very High)\n",
    "* **MaritalStatus:** Marital status (Single, Married, Divorced)\n",
    "* **MonthlyIncome:** Monthly salary\n",
    "* **MonthlyRate:** Base pay\n",
    "* **NumCompaniesWorked:** Number of companies employee has worked for\n",
    "* **Over18:** Always Y\n",
    "* **OverTime:** Whether the employee works overtime (Yes or No)\n",
    "* **PercentSalaryHike:** Percent salary increase\n",
    "* **PerformanceRating:** Performance rating (1 = Low, 4 = Outstanding)\n",
    "* **RelationshipSatisfaction:** Satisfaction with coworkers (1–4)\n",
    "* **StandardHours:** Always 80\n",
    "* **StockOptionLevel:** Stock options level (0–3)\n",
    "* **TotalWorkingYears:** Total years of professional experience\n",
    "* **TrainingTimesLastYear:** How many times the employee had training.\n",
    "* **WorkLifeBalance:** Work-life balance rating (1 = Bad to 4 = Best)\n",
    "* **YearsAtCompany:** Number of years at the current company\n",
    "* **YearsInCurrentRole:** Number of years in current role\n",
    "* **YearsSinceLastPromotion:** Number of years since last promotion\n",
    "* **YearsWithCurrManager:** Number of years with current manager"
   ]
  },
  {
   "cell_type": "markdown",
   "id": "4c37de0b-2011-4112-ba24-72d646604646",
   "metadata": {},
   "source": [
    "## Data Assessment"
   ]
  },
  {
   "cell_type": "code",
   "execution_count": 1,
   "id": "464d2b61-d260-4b38-afc9-2a883b8d1613",
   "metadata": {},
   "outputs": [],
   "source": [
    "import pandas as pd\n",
    "import numpy as np\n",
    "import seaborn as sns\n",
    "import matplotlib.pyplot as plt"
   ]
  },
  {
   "cell_type": "code",
   "execution_count": 2,
   "id": "774f4939-fcb1-48c2-a232-07ab0291e992",
   "metadata": {},
   "outputs": [
    {
     "data": {
      "text/html": [
       "<div>\n",
       "<style scoped>\n",
       "    .dataframe tbody tr th:only-of-type {\n",
       "        vertical-align: middle;\n",
       "    }\n",
       "\n",
       "    .dataframe tbody tr th {\n",
       "        vertical-align: top;\n",
       "    }\n",
       "\n",
       "    .dataframe thead th {\n",
       "        text-align: right;\n",
       "    }\n",
       "</style>\n",
       "<table border=\"1\" class=\"dataframe\">\n",
       "  <thead>\n",
       "    <tr style=\"text-align: right;\">\n",
       "      <th></th>\n",
       "      <th>Age</th>\n",
       "      <th>Attrition</th>\n",
       "      <th>BusinessTravel</th>\n",
       "      <th>DailyRate</th>\n",
       "      <th>Department</th>\n",
       "      <th>DistanceFromHome</th>\n",
       "      <th>Education</th>\n",
       "      <th>EducationField</th>\n",
       "      <th>EmployeeCount</th>\n",
       "      <th>EmployeeNumber</th>\n",
       "      <th>...</th>\n",
       "      <th>RelationshipSatisfaction</th>\n",
       "      <th>StandardHours</th>\n",
       "      <th>StockOptionLevel</th>\n",
       "      <th>TotalWorkingYears</th>\n",
       "      <th>TrainingTimesLastYear</th>\n",
       "      <th>WorkLifeBalance</th>\n",
       "      <th>YearsAtCompany</th>\n",
       "      <th>YearsInCurrentRole</th>\n",
       "      <th>YearsSinceLastPromotion</th>\n",
       "      <th>YearsWithCurrManager</th>\n",
       "    </tr>\n",
       "  </thead>\n",
       "  <tbody>\n",
       "    <tr>\n",
       "      <th>0</th>\n",
       "      <td>41</td>\n",
       "      <td>Yes</td>\n",
       "      <td>Travel_Rarely</td>\n",
       "      <td>1102</td>\n",
       "      <td>Sales</td>\n",
       "      <td>1</td>\n",
       "      <td>2</td>\n",
       "      <td>Life Sciences</td>\n",
       "      <td>1</td>\n",
       "      <td>1</td>\n",
       "      <td>...</td>\n",
       "      <td>1</td>\n",
       "      <td>80</td>\n",
       "      <td>0</td>\n",
       "      <td>8</td>\n",
       "      <td>0</td>\n",
       "      <td>1</td>\n",
       "      <td>6</td>\n",
       "      <td>4</td>\n",
       "      <td>0</td>\n",
       "      <td>5</td>\n",
       "    </tr>\n",
       "    <tr>\n",
       "      <th>1</th>\n",
       "      <td>49</td>\n",
       "      <td>No</td>\n",
       "      <td>Travel_Frequently</td>\n",
       "      <td>279</td>\n",
       "      <td>Research &amp; Development</td>\n",
       "      <td>8</td>\n",
       "      <td>1</td>\n",
       "      <td>Life Sciences</td>\n",
       "      <td>1</td>\n",
       "      <td>2</td>\n",
       "      <td>...</td>\n",
       "      <td>4</td>\n",
       "      <td>80</td>\n",
       "      <td>1</td>\n",
       "      <td>10</td>\n",
       "      <td>3</td>\n",
       "      <td>3</td>\n",
       "      <td>10</td>\n",
       "      <td>7</td>\n",
       "      <td>1</td>\n",
       "      <td>7</td>\n",
       "    </tr>\n",
       "    <tr>\n",
       "      <th>2</th>\n",
       "      <td>37</td>\n",
       "      <td>Yes</td>\n",
       "      <td>Travel_Rarely</td>\n",
       "      <td>1373</td>\n",
       "      <td>Research &amp; Development</td>\n",
       "      <td>2</td>\n",
       "      <td>2</td>\n",
       "      <td>Other</td>\n",
       "      <td>1</td>\n",
       "      <td>4</td>\n",
       "      <td>...</td>\n",
       "      <td>2</td>\n",
       "      <td>80</td>\n",
       "      <td>0</td>\n",
       "      <td>7</td>\n",
       "      <td>3</td>\n",
       "      <td>3</td>\n",
       "      <td>0</td>\n",
       "      <td>0</td>\n",
       "      <td>0</td>\n",
       "      <td>0</td>\n",
       "    </tr>\n",
       "    <tr>\n",
       "      <th>3</th>\n",
       "      <td>33</td>\n",
       "      <td>No</td>\n",
       "      <td>Travel_Frequently</td>\n",
       "      <td>1392</td>\n",
       "      <td>Research &amp; Development</td>\n",
       "      <td>3</td>\n",
       "      <td>4</td>\n",
       "      <td>Life Sciences</td>\n",
       "      <td>1</td>\n",
       "      <td>5</td>\n",
       "      <td>...</td>\n",
       "      <td>3</td>\n",
       "      <td>80</td>\n",
       "      <td>0</td>\n",
       "      <td>8</td>\n",
       "      <td>3</td>\n",
       "      <td>3</td>\n",
       "      <td>8</td>\n",
       "      <td>7</td>\n",
       "      <td>3</td>\n",
       "      <td>0</td>\n",
       "    </tr>\n",
       "    <tr>\n",
       "      <th>4</th>\n",
       "      <td>27</td>\n",
       "      <td>No</td>\n",
       "      <td>Travel_Rarely</td>\n",
       "      <td>591</td>\n",
       "      <td>Research &amp; Development</td>\n",
       "      <td>2</td>\n",
       "      <td>1</td>\n",
       "      <td>Medical</td>\n",
       "      <td>1</td>\n",
       "      <td>7</td>\n",
       "      <td>...</td>\n",
       "      <td>4</td>\n",
       "      <td>80</td>\n",
       "      <td>1</td>\n",
       "      <td>6</td>\n",
       "      <td>3</td>\n",
       "      <td>3</td>\n",
       "      <td>2</td>\n",
       "      <td>2</td>\n",
       "      <td>2</td>\n",
       "      <td>2</td>\n",
       "    </tr>\n",
       "  </tbody>\n",
       "</table>\n",
       "<p>5 rows × 35 columns</p>\n",
       "</div>"
      ],
      "text/plain": [
       "   Age Attrition     BusinessTravel  DailyRate              Department  \\\n",
       "0   41       Yes      Travel_Rarely       1102                   Sales   \n",
       "1   49        No  Travel_Frequently        279  Research & Development   \n",
       "2   37       Yes      Travel_Rarely       1373  Research & Development   \n",
       "3   33        No  Travel_Frequently       1392  Research & Development   \n",
       "4   27        No      Travel_Rarely        591  Research & Development   \n",
       "\n",
       "   DistanceFromHome  Education EducationField  EmployeeCount  EmployeeNumber  \\\n",
       "0                 1          2  Life Sciences              1               1   \n",
       "1                 8          1  Life Sciences              1               2   \n",
       "2                 2          2          Other              1               4   \n",
       "3                 3          4  Life Sciences              1               5   \n",
       "4                 2          1        Medical              1               7   \n",
       "\n",
       "   ...  RelationshipSatisfaction StandardHours  StockOptionLevel  \\\n",
       "0  ...                         1            80                 0   \n",
       "1  ...                         4            80                 1   \n",
       "2  ...                         2            80                 0   \n",
       "3  ...                         3            80                 0   \n",
       "4  ...                         4            80                 1   \n",
       "\n",
       "   TotalWorkingYears  TrainingTimesLastYear WorkLifeBalance  YearsAtCompany  \\\n",
       "0                  8                      0               1               6   \n",
       "1                 10                      3               3              10   \n",
       "2                  7                      3               3               0   \n",
       "3                  8                      3               3               8   \n",
       "4                  6                      3               3               2   \n",
       "\n",
       "  YearsInCurrentRole  YearsSinceLastPromotion  YearsWithCurrManager  \n",
       "0                  4                        0                     5  \n",
       "1                  7                        1                     7  \n",
       "2                  0                        0                     0  \n",
       "3                  7                        3                     0  \n",
       "4                  2                        2                     2  \n",
       "\n",
       "[5 rows x 35 columns]"
      ]
     },
     "execution_count": 2,
     "metadata": {},
     "output_type": "execute_result"
    }
   ],
   "source": [
    "hr_dataset = pd.read_csv('WA_Fn-UseC_-HR-Employee-Attrition.csv')\n",
    "hr_dataset.head()"
   ]
  },
  {
   "cell_type": "code",
   "execution_count": 3,
   "id": "134ba291-172b-4764-b1ba-2eb02bed30f9",
   "metadata": {},
   "outputs": [
    {
     "name": "stdout",
     "output_type": "stream",
     "text": [
      "<class 'pandas.core.frame.DataFrame'>\n",
      "RangeIndex: 1470 entries, 0 to 1469\n",
      "Data columns (total 35 columns):\n",
      " #   Column                    Non-Null Count  Dtype \n",
      "---  ------                    --------------  ----- \n",
      " 0   Age                       1470 non-null   int64 \n",
      " 1   Attrition                 1470 non-null   object\n",
      " 2   BusinessTravel            1470 non-null   object\n",
      " 3   DailyRate                 1470 non-null   int64 \n",
      " 4   Department                1470 non-null   object\n",
      " 5   DistanceFromHome          1470 non-null   int64 \n",
      " 6   Education                 1470 non-null   int64 \n",
      " 7   EducationField            1470 non-null   object\n",
      " 8   EmployeeCount             1470 non-null   int64 \n",
      " 9   EmployeeNumber            1470 non-null   int64 \n",
      " 10  EnvironmentSatisfaction   1470 non-null   int64 \n",
      " 11  Gender                    1470 non-null   object\n",
      " 12  HourlyRate                1470 non-null   int64 \n",
      " 13  JobInvolvement            1470 non-null   int64 \n",
      " 14  JobLevel                  1470 non-null   int64 \n",
      " 15  JobRole                   1470 non-null   object\n",
      " 16  JobSatisfaction           1470 non-null   int64 \n",
      " 17  MaritalStatus             1470 non-null   object\n",
      " 18  MonthlyIncome             1470 non-null   int64 \n",
      " 19  MonthlyRate               1470 non-null   int64 \n",
      " 20  NumCompaniesWorked        1470 non-null   int64 \n",
      " 21  Over18                    1470 non-null   object\n",
      " 22  OverTime                  1470 non-null   object\n",
      " 23  PercentSalaryHike         1470 non-null   int64 \n",
      " 24  PerformanceRating         1470 non-null   int64 \n",
      " 25  RelationshipSatisfaction  1470 non-null   int64 \n",
      " 26  StandardHours             1470 non-null   int64 \n",
      " 27  StockOptionLevel          1470 non-null   int64 \n",
      " 28  TotalWorkingYears         1470 non-null   int64 \n",
      " 29  TrainingTimesLastYear     1470 non-null   int64 \n",
      " 30  WorkLifeBalance           1470 non-null   int64 \n",
      " 31  YearsAtCompany            1470 non-null   int64 \n",
      " 32  YearsInCurrentRole        1470 non-null   int64 \n",
      " 33  YearsSinceLastPromotion   1470 non-null   int64 \n",
      " 34  YearsWithCurrManager      1470 non-null   int64 \n",
      "dtypes: int64(26), object(9)\n",
      "memory usage: 402.1+ KB\n"
     ]
    }
   ],
   "source": [
    "hr_dataset.info()"
   ]
  },
  {
   "cell_type": "code",
   "execution_count": 4,
   "id": "6628ec07-a607-4b18-9ff7-9623fdf3234c",
   "metadata": {},
   "outputs": [
    {
     "data": {
      "text/html": [
       "<div>\n",
       "<style scoped>\n",
       "    .dataframe tbody tr th:only-of-type {\n",
       "        vertical-align: middle;\n",
       "    }\n",
       "\n",
       "    .dataframe tbody tr th {\n",
       "        vertical-align: top;\n",
       "    }\n",
       "\n",
       "    .dataframe thead th {\n",
       "        text-align: right;\n",
       "    }\n",
       "</style>\n",
       "<table border=\"1\" class=\"dataframe\">\n",
       "  <thead>\n",
       "    <tr style=\"text-align: right;\">\n",
       "      <th></th>\n",
       "      <th>Age</th>\n",
       "      <th>DailyRate</th>\n",
       "      <th>DistanceFromHome</th>\n",
       "      <th>Education</th>\n",
       "      <th>EmployeeCount</th>\n",
       "      <th>EmployeeNumber</th>\n",
       "      <th>EnvironmentSatisfaction</th>\n",
       "      <th>HourlyRate</th>\n",
       "      <th>JobInvolvement</th>\n",
       "      <th>JobLevel</th>\n",
       "      <th>...</th>\n",
       "      <th>RelationshipSatisfaction</th>\n",
       "      <th>StandardHours</th>\n",
       "      <th>StockOptionLevel</th>\n",
       "      <th>TotalWorkingYears</th>\n",
       "      <th>TrainingTimesLastYear</th>\n",
       "      <th>WorkLifeBalance</th>\n",
       "      <th>YearsAtCompany</th>\n",
       "      <th>YearsInCurrentRole</th>\n",
       "      <th>YearsSinceLastPromotion</th>\n",
       "      <th>YearsWithCurrManager</th>\n",
       "    </tr>\n",
       "  </thead>\n",
       "  <tbody>\n",
       "    <tr>\n",
       "      <th>count</th>\n",
       "      <td>1470.000000</td>\n",
       "      <td>1470.000000</td>\n",
       "      <td>1470.000000</td>\n",
       "      <td>1470.000000</td>\n",
       "      <td>1470.0</td>\n",
       "      <td>1470.000000</td>\n",
       "      <td>1470.000000</td>\n",
       "      <td>1470.000000</td>\n",
       "      <td>1470.000000</td>\n",
       "      <td>1470.000000</td>\n",
       "      <td>...</td>\n",
       "      <td>1470.000000</td>\n",
       "      <td>1470.0</td>\n",
       "      <td>1470.000000</td>\n",
       "      <td>1470.000000</td>\n",
       "      <td>1470.000000</td>\n",
       "      <td>1470.000000</td>\n",
       "      <td>1470.000000</td>\n",
       "      <td>1470.000000</td>\n",
       "      <td>1470.000000</td>\n",
       "      <td>1470.000000</td>\n",
       "    </tr>\n",
       "    <tr>\n",
       "      <th>mean</th>\n",
       "      <td>36.923810</td>\n",
       "      <td>802.485714</td>\n",
       "      <td>9.192517</td>\n",
       "      <td>2.912925</td>\n",
       "      <td>1.0</td>\n",
       "      <td>1024.865306</td>\n",
       "      <td>2.721769</td>\n",
       "      <td>65.891156</td>\n",
       "      <td>2.729932</td>\n",
       "      <td>2.063946</td>\n",
       "      <td>...</td>\n",
       "      <td>2.712245</td>\n",
       "      <td>80.0</td>\n",
       "      <td>0.793878</td>\n",
       "      <td>11.279592</td>\n",
       "      <td>2.799320</td>\n",
       "      <td>2.761224</td>\n",
       "      <td>7.008163</td>\n",
       "      <td>4.229252</td>\n",
       "      <td>2.187755</td>\n",
       "      <td>4.123129</td>\n",
       "    </tr>\n",
       "    <tr>\n",
       "      <th>std</th>\n",
       "      <td>9.135373</td>\n",
       "      <td>403.509100</td>\n",
       "      <td>8.106864</td>\n",
       "      <td>1.024165</td>\n",
       "      <td>0.0</td>\n",
       "      <td>602.024335</td>\n",
       "      <td>1.093082</td>\n",
       "      <td>20.329428</td>\n",
       "      <td>0.711561</td>\n",
       "      <td>1.106940</td>\n",
       "      <td>...</td>\n",
       "      <td>1.081209</td>\n",
       "      <td>0.0</td>\n",
       "      <td>0.852077</td>\n",
       "      <td>7.780782</td>\n",
       "      <td>1.289271</td>\n",
       "      <td>0.706476</td>\n",
       "      <td>6.126525</td>\n",
       "      <td>3.623137</td>\n",
       "      <td>3.222430</td>\n",
       "      <td>3.568136</td>\n",
       "    </tr>\n",
       "    <tr>\n",
       "      <th>min</th>\n",
       "      <td>18.000000</td>\n",
       "      <td>102.000000</td>\n",
       "      <td>1.000000</td>\n",
       "      <td>1.000000</td>\n",
       "      <td>1.0</td>\n",
       "      <td>1.000000</td>\n",
       "      <td>1.000000</td>\n",
       "      <td>30.000000</td>\n",
       "      <td>1.000000</td>\n",
       "      <td>1.000000</td>\n",
       "      <td>...</td>\n",
       "      <td>1.000000</td>\n",
       "      <td>80.0</td>\n",
       "      <td>0.000000</td>\n",
       "      <td>0.000000</td>\n",
       "      <td>0.000000</td>\n",
       "      <td>1.000000</td>\n",
       "      <td>0.000000</td>\n",
       "      <td>0.000000</td>\n",
       "      <td>0.000000</td>\n",
       "      <td>0.000000</td>\n",
       "    </tr>\n",
       "    <tr>\n",
       "      <th>25%</th>\n",
       "      <td>30.000000</td>\n",
       "      <td>465.000000</td>\n",
       "      <td>2.000000</td>\n",
       "      <td>2.000000</td>\n",
       "      <td>1.0</td>\n",
       "      <td>491.250000</td>\n",
       "      <td>2.000000</td>\n",
       "      <td>48.000000</td>\n",
       "      <td>2.000000</td>\n",
       "      <td>1.000000</td>\n",
       "      <td>...</td>\n",
       "      <td>2.000000</td>\n",
       "      <td>80.0</td>\n",
       "      <td>0.000000</td>\n",
       "      <td>6.000000</td>\n",
       "      <td>2.000000</td>\n",
       "      <td>2.000000</td>\n",
       "      <td>3.000000</td>\n",
       "      <td>2.000000</td>\n",
       "      <td>0.000000</td>\n",
       "      <td>2.000000</td>\n",
       "    </tr>\n",
       "    <tr>\n",
       "      <th>50%</th>\n",
       "      <td>36.000000</td>\n",
       "      <td>802.000000</td>\n",
       "      <td>7.000000</td>\n",
       "      <td>3.000000</td>\n",
       "      <td>1.0</td>\n",
       "      <td>1020.500000</td>\n",
       "      <td>3.000000</td>\n",
       "      <td>66.000000</td>\n",
       "      <td>3.000000</td>\n",
       "      <td>2.000000</td>\n",
       "      <td>...</td>\n",
       "      <td>3.000000</td>\n",
       "      <td>80.0</td>\n",
       "      <td>1.000000</td>\n",
       "      <td>10.000000</td>\n",
       "      <td>3.000000</td>\n",
       "      <td>3.000000</td>\n",
       "      <td>5.000000</td>\n",
       "      <td>3.000000</td>\n",
       "      <td>1.000000</td>\n",
       "      <td>3.000000</td>\n",
       "    </tr>\n",
       "    <tr>\n",
       "      <th>75%</th>\n",
       "      <td>43.000000</td>\n",
       "      <td>1157.000000</td>\n",
       "      <td>14.000000</td>\n",
       "      <td>4.000000</td>\n",
       "      <td>1.0</td>\n",
       "      <td>1555.750000</td>\n",
       "      <td>4.000000</td>\n",
       "      <td>83.750000</td>\n",
       "      <td>3.000000</td>\n",
       "      <td>3.000000</td>\n",
       "      <td>...</td>\n",
       "      <td>4.000000</td>\n",
       "      <td>80.0</td>\n",
       "      <td>1.000000</td>\n",
       "      <td>15.000000</td>\n",
       "      <td>3.000000</td>\n",
       "      <td>3.000000</td>\n",
       "      <td>9.000000</td>\n",
       "      <td>7.000000</td>\n",
       "      <td>3.000000</td>\n",
       "      <td>7.000000</td>\n",
       "    </tr>\n",
       "    <tr>\n",
       "      <th>max</th>\n",
       "      <td>60.000000</td>\n",
       "      <td>1499.000000</td>\n",
       "      <td>29.000000</td>\n",
       "      <td>5.000000</td>\n",
       "      <td>1.0</td>\n",
       "      <td>2068.000000</td>\n",
       "      <td>4.000000</td>\n",
       "      <td>100.000000</td>\n",
       "      <td>4.000000</td>\n",
       "      <td>5.000000</td>\n",
       "      <td>...</td>\n",
       "      <td>4.000000</td>\n",
       "      <td>80.0</td>\n",
       "      <td>3.000000</td>\n",
       "      <td>40.000000</td>\n",
       "      <td>6.000000</td>\n",
       "      <td>4.000000</td>\n",
       "      <td>40.000000</td>\n",
       "      <td>18.000000</td>\n",
       "      <td>15.000000</td>\n",
       "      <td>17.000000</td>\n",
       "    </tr>\n",
       "  </tbody>\n",
       "</table>\n",
       "<p>8 rows × 26 columns</p>\n",
       "</div>"
      ],
      "text/plain": [
       "               Age    DailyRate  DistanceFromHome    Education  EmployeeCount  \\\n",
       "count  1470.000000  1470.000000       1470.000000  1470.000000         1470.0   \n",
       "mean     36.923810   802.485714          9.192517     2.912925            1.0   \n",
       "std       9.135373   403.509100          8.106864     1.024165            0.0   \n",
       "min      18.000000   102.000000          1.000000     1.000000            1.0   \n",
       "25%      30.000000   465.000000          2.000000     2.000000            1.0   \n",
       "50%      36.000000   802.000000          7.000000     3.000000            1.0   \n",
       "75%      43.000000  1157.000000         14.000000     4.000000            1.0   \n",
       "max      60.000000  1499.000000         29.000000     5.000000            1.0   \n",
       "\n",
       "       EmployeeNumber  EnvironmentSatisfaction   HourlyRate  JobInvolvement  \\\n",
       "count     1470.000000              1470.000000  1470.000000     1470.000000   \n",
       "mean      1024.865306                 2.721769    65.891156        2.729932   \n",
       "std        602.024335                 1.093082    20.329428        0.711561   \n",
       "min          1.000000                 1.000000    30.000000        1.000000   \n",
       "25%        491.250000                 2.000000    48.000000        2.000000   \n",
       "50%       1020.500000                 3.000000    66.000000        3.000000   \n",
       "75%       1555.750000                 4.000000    83.750000        3.000000   \n",
       "max       2068.000000                 4.000000   100.000000        4.000000   \n",
       "\n",
       "          JobLevel  ...  RelationshipSatisfaction  StandardHours  \\\n",
       "count  1470.000000  ...               1470.000000         1470.0   \n",
       "mean      2.063946  ...                  2.712245           80.0   \n",
       "std       1.106940  ...                  1.081209            0.0   \n",
       "min       1.000000  ...                  1.000000           80.0   \n",
       "25%       1.000000  ...                  2.000000           80.0   \n",
       "50%       2.000000  ...                  3.000000           80.0   \n",
       "75%       3.000000  ...                  4.000000           80.0   \n",
       "max       5.000000  ...                  4.000000           80.0   \n",
       "\n",
       "       StockOptionLevel  TotalWorkingYears  TrainingTimesLastYear  \\\n",
       "count       1470.000000        1470.000000            1470.000000   \n",
       "mean           0.793878          11.279592               2.799320   \n",
       "std            0.852077           7.780782               1.289271   \n",
       "min            0.000000           0.000000               0.000000   \n",
       "25%            0.000000           6.000000               2.000000   \n",
       "50%            1.000000          10.000000               3.000000   \n",
       "75%            1.000000          15.000000               3.000000   \n",
       "max            3.000000          40.000000               6.000000   \n",
       "\n",
       "       WorkLifeBalance  YearsAtCompany  YearsInCurrentRole  \\\n",
       "count      1470.000000     1470.000000         1470.000000   \n",
       "mean          2.761224        7.008163            4.229252   \n",
       "std           0.706476        6.126525            3.623137   \n",
       "min           1.000000        0.000000            0.000000   \n",
       "25%           2.000000        3.000000            2.000000   \n",
       "50%           3.000000        5.000000            3.000000   \n",
       "75%           3.000000        9.000000            7.000000   \n",
       "max           4.000000       40.000000           18.000000   \n",
       "\n",
       "       YearsSinceLastPromotion  YearsWithCurrManager  \n",
       "count              1470.000000           1470.000000  \n",
       "mean                  2.187755              4.123129  \n",
       "std                   3.222430              3.568136  \n",
       "min                   0.000000              0.000000  \n",
       "25%                   0.000000              2.000000  \n",
       "50%                   1.000000              3.000000  \n",
       "75%                   3.000000              7.000000  \n",
       "max                  15.000000             17.000000  \n",
       "\n",
       "[8 rows x 26 columns]"
      ]
     },
     "execution_count": 4,
     "metadata": {},
     "output_type": "execute_result"
    }
   ],
   "source": [
    "hr_dataset.describe()"
   ]
  },
  {
   "cell_type": "code",
   "execution_count": 5,
   "id": "79122fc2-eb5c-45f7-b945-74af1bcaa907",
   "metadata": {},
   "outputs": [
    {
     "data": {
      "text/plain": [
       "Age                         0\n",
       "Attrition                   0\n",
       "BusinessTravel              0\n",
       "DailyRate                   0\n",
       "Department                  0\n",
       "DistanceFromHome            0\n",
       "Education                   0\n",
       "EducationField              0\n",
       "EmployeeCount               0\n",
       "EmployeeNumber              0\n",
       "EnvironmentSatisfaction     0\n",
       "Gender                      0\n",
       "HourlyRate                  0\n",
       "JobInvolvement              0\n",
       "JobLevel                    0\n",
       "JobRole                     0\n",
       "JobSatisfaction             0\n",
       "MaritalStatus               0\n",
       "MonthlyIncome               0\n",
       "MonthlyRate                 0\n",
       "NumCompaniesWorked          0\n",
       "Over18                      0\n",
       "OverTime                    0\n",
       "PercentSalaryHike           0\n",
       "PerformanceRating           0\n",
       "RelationshipSatisfaction    0\n",
       "StandardHours               0\n",
       "StockOptionLevel            0\n",
       "TotalWorkingYears           0\n",
       "TrainingTimesLastYear       0\n",
       "WorkLifeBalance             0\n",
       "YearsAtCompany              0\n",
       "YearsInCurrentRole          0\n",
       "YearsSinceLastPromotion     0\n",
       "YearsWithCurrManager        0\n",
       "dtype: int64"
      ]
     },
     "execution_count": 5,
     "metadata": {},
     "output_type": "execute_result"
    }
   ],
   "source": [
    "# checking for missing values in each column\n",
    "hr_dataset.isnull().sum()"
   ]
  },
  {
   "cell_type": "code",
   "execution_count": 6,
   "id": "7538ae12-005b-4a59-9d01-152ca659b056",
   "metadata": {},
   "outputs": [
    {
     "name": "stdout",
     "output_type": "stream",
     "text": [
      "/nColumn: Age\n",
      "[41 49 37 33 27 32 59 30 38 36 35 29 31 34 28 22 53 24 21 42 44 46 39 43\n",
      " 50 26 48 55 45 56 23 51 40 54 58 20 25 19 57 52 47 18 60]\n",
      "/nColumn: Attrition\n",
      "['Yes' 'No']\n",
      "/nColumn: BusinessTravel\n",
      "['Travel_Rarely' 'Travel_Frequently' 'Non-Travel']\n",
      "/nColumn: DailyRate\n",
      "[1102  279 1373 1392  591 1005 1324 1358  216 1299  809  153  670 1346\n",
      "  103 1389  334 1123 1219  371  673 1218  419  391  699 1282 1125  691\n",
      "  477  705  924 1459  125  895  813 1273  869  890  852 1141  464 1240\n",
      " 1357  994  721 1360 1065  408 1211 1229  626 1434 1488 1097 1443  515\n",
      "  853 1142  655 1115  427  653  989 1435 1223  836 1195 1339  664  318\n",
      " 1225 1328 1082  548  132  746  776  193  397  945 1214  111  573 1153\n",
      " 1400  541  432  288  669  530  632 1334  638 1093 1217 1353  120  682\n",
      "  489  807  827  871  665 1040 1420  240 1280  534 1456  658  142 1127\n",
      " 1031 1189 1354 1467  922  394 1312  750  441  684  249  841  147  528\n",
      "  594  470  957  542  802 1355 1150 1329  959 1033 1316  364  438  689\n",
      "  201 1427  857  933 1181 1395  662 1436  194  967 1496 1169 1145  630\n",
      "  303 1256  440 1450 1452  465  702 1157  602 1480 1268  713  134  526\n",
      " 1380  140  629 1356  328 1084  931  692 1069  313  894  556 1344  290\n",
      "  138  926 1261  472 1002  878  905 1180  121 1136  635 1151  644 1045\n",
      "  829 1242 1469  896  992 1052 1147 1396  663  119  979  319 1413  944\n",
      " 1323  532  818  854 1034  771 1401 1431  976 1411 1300  252 1327  832\n",
      " 1017 1199  504  505  916 1247  685  269 1416  833  307 1311  128  488\n",
      "  529 1210 1463  675 1385 1403  452  666 1158  228  996  728 1315  322\n",
      " 1479  797 1070  442  496 1372  920  688 1449 1117  636  506  444  950\n",
      "  889  555  230 1232  566 1302  812 1476  218 1132 1105  906  849  390\n",
      "  106 1249  192  553  117  185 1091  723 1220  588 1377 1018 1275  798\n",
      "  672 1162  508 1482  559  210  928 1001  549 1124  738  570 1130 1192\n",
      "  343  144 1296 1309  483  810  544 1062 1319  641 1332  756  845  593\n",
      " 1171  350  921 1144  143 1046  575  156 1283  755  304 1178  329 1362\n",
      " 1371  202  253  164 1107  759 1305  982  821 1381  480 1473  891 1063\n",
      "  645 1490  317  422 1485 1368 1448  296 1398 1349  986 1099 1116 1499\n",
      "  983 1009 1303 1274 1277  587  413 1276  988 1474  163  267  619  302\n",
      "  443  828  561  426  232 1306 1094  509  775  195  258  471  799  956\n",
      "  535 1495  446 1245  703  823 1246  622 1287  448  254 1365  538  525\n",
      "  558  782  362 1236 1112  204 1343  604 1216  646  160  238 1397  306\n",
      "  991  482 1176  913 1076  727  885  243  806  817 1410 1207 1442  693\n",
      "  929  562  608  580  970 1179  294  314  316  654  168  381  217  501\n",
      "  650  141  804  975 1090  346  430  268  167  621  527  883  954  310\n",
      "  719  725  715  657 1146  182  376  571  384  791 1111 1243 1092 1325\n",
      "  805  213  118  676 1252  286 1258  932 1041  859  720  946 1184  436\n",
      "  589  760  887 1318  625  180  586 1012  661  930  342 1230 1271 1278\n",
      "  607  130  300  583 1418 1269  379  395 1265 1222  341  868 1231  102\n",
      "  881 1383 1075  374 1086  781  177  500 1425 1454  617 1085  995 1122\n",
      "  618  546  462 1198 1272  154 1137 1188  188 1333  867  263  938  129\n",
      "  616  498 1404 1053  289 1376  231  152  882  903 1379  335  722  461\n",
      "  974 1126  840 1134  248  955  939 1391 1206  287 1441  109 1066  277\n",
      "  466 1055  265  135  247 1035  266  145 1038 1234 1109 1089  788  124\n",
      "  660 1186 1464  796  415  769 1003 1366  330 1492 1204  309 1330  469\n",
      "  697 1262 1050  770  406  203 1308  984  439  793 1451 1182  174  490\n",
      "  718  433  773  603  874  367  199  481  647 1384  902  819  862 1457\n",
      "  977  942 1402 1421 1361  917  200  150  179  696  116  363  107 1465\n",
      "  458 1212 1103  966 1010  326 1098  969 1167  694 1320  536  373  599\n",
      "  251  131  237 1429  648  735  531  429  968  879  640  412  848  360\n",
      " 1138  325 1322  299 1030  634  524  256 1060  935  495  282  206  943\n",
      "  523  507  601  855 1291 1405 1369  999 1202  285  404  736 1498 1200\n",
      " 1439  499  205  683 1462  949  652  332 1475  337  971 1174  667  560\n",
      "  172  383 1255  359  401  377  592 1445 1221  866  981  447 1326  748\n",
      "  990  405  115  790  830 1193 1423  467  271  410 1083  516  224  136\n",
      " 1029  333 1440  674 1342  898  824  492  598  740  888 1288  104 1108\n",
      "  479 1351  474  437  884 1370  264 1059  563  457 1313  241 1015  336\n",
      " 1387  170  208  671  711  737 1470  365  763  567  486  772  301  311\n",
      "  584  880  392  148  708 1259  786  370  678  146  581  918 1238  585\n",
      "  741  552  369  717  543  964  792  611  176  897  600 1054  428  181\n",
      "  211 1079  590  305  953  478 1375  244  511 1294  196  734 1239 1253\n",
      " 1128 1336  234  766  261 1194  431  572 1422 1297  574  355  207  706\n",
      "  280  726  414  352 1224  459 1254 1131  835 1172 1266  783  219 1213\n",
      " 1096 1251 1394  605 1064 1337  937  157  754 1168  155 1444  189  911\n",
      " 1321 1154  557  642  801  161 1382 1037  105  582  704  345 1120 1378\n",
      "  468  613 1023  628]\n",
      "/nColumn: Department\n",
      "['Sales' 'Research & Development' 'Human Resources']\n",
      "/nColumn: DistanceFromHome\n",
      "[ 1  8  2  3 24 23 27 16 15 26 19 21  5 11  9  7  6 10  4 25 12 18 29 22\n",
      " 14 20 28 17 13]\n",
      "/nColumn: Education\n",
      "[2 1 4 3 5]\n",
      "/nColumn: EducationField\n",
      "['Life Sciences' 'Other' 'Medical' 'Marketing' 'Technical Degree'\n",
      " 'Human Resources']\n",
      "/nColumn: EmployeeCount\n",
      "[1]\n",
      "/nColumn: EmployeeNumber\n",
      "[   1    2    4 ... 2064 2065 2068]\n",
      "/nColumn: EnvironmentSatisfaction\n",
      "[2 3 4 1]\n",
      "/nColumn: Gender\n",
      "['Female' 'Male']\n",
      "/nColumn: HourlyRate\n",
      "[ 94  61  92  56  40  79  81  67  44  84  49  31  93  50  51  80  96  78\n",
      "  45  82  53  83  58  72  48  42  41  86  97  75  33  37  73  98  36  47\n",
      "  71  30  43  99  59  95  57  76  87  66  55  32  52  70  62  64  63  60\n",
      " 100  46  39  77  35  91  54  34  90  65  88  85  89  68  69  74  38]\n",
      "/nColumn: JobInvolvement\n",
      "[3 2 4 1]\n",
      "/nColumn: JobLevel\n",
      "[2 1 3 4 5]\n",
      "/nColumn: JobRole\n",
      "['Sales Executive' 'Research Scientist' 'Laboratory Technician'\n",
      " 'Manufacturing Director' 'Healthcare Representative' 'Manager'\n",
      " 'Sales Representative' 'Research Director' 'Human Resources']\n",
      "/nColumn: JobSatisfaction\n",
      "[4 2 3 1]\n",
      "/nColumn: MaritalStatus\n",
      "['Single' 'Married' 'Divorced']\n",
      "/nColumn: MonthlyIncome\n",
      "[5993 5130 2090 ... 9991 5390 4404]\n",
      "/nColumn: MonthlyRate\n",
      "[19479 24907  2396 ...  5174 13243 10228]\n",
      "/nColumn: NumCompaniesWorked\n",
      "[8 1 6 9 0 4 5 2 7 3]\n",
      "/nColumn: Over18\n",
      "['Y']\n",
      "/nColumn: OverTime\n",
      "['Yes' 'No']\n",
      "/nColumn: PercentSalaryHike\n",
      "[11 23 15 12 13 20 22 21 17 14 16 18 19 24 25]\n",
      "/nColumn: PerformanceRating\n",
      "[3 4]\n",
      "/nColumn: RelationshipSatisfaction\n",
      "[1 4 2 3]\n",
      "/nColumn: StandardHours\n",
      "[80]\n",
      "/nColumn: StockOptionLevel\n",
      "[0 1 3 2]\n",
      "/nColumn: TotalWorkingYears\n",
      "[ 8 10  7  6 12  1 17  5  3 31 13  0 26 24 22  9 19  2 23 14 15  4 29 28\n",
      " 21 25 20 11 16 37 38 30 40 18 36 34 32 33 35 27]\n",
      "/nColumn: TrainingTimesLastYear\n",
      "[0 3 2 5 1 4 6]\n",
      "/nColumn: WorkLifeBalance\n",
      "[1 3 2 4]\n",
      "/nColumn: YearsAtCompany\n",
      "[ 6 10  0  8  2  7  1  9  5  4 25  3 12 14 22 15 27 21 17 11 13 37 16 20\n",
      " 40 24 33 19 36 18 29 31 32 34 26 30 23]\n",
      "/nColumn: YearsInCurrentRole\n",
      "[ 4  7  0  2  5  9  8  3  6 13  1 15 14 16 11 10 12 18 17]\n",
      "/nColumn: YearsSinceLastPromotion\n",
      "[ 0  1  3  2  7  4  8  6  5 15  9 13 12 10 11 14]\n",
      "/nColumn: YearsWithCurrManager\n",
      "[ 5  7  0  2  6  8  3 11 17  1  4 12  9 10 15 13 16 14]\n"
     ]
    }
   ],
   "source": [
    "all_columns = hr_dataset.columns.tolist()\n",
    "\n",
    "# adding a for loop to print all the unique values in each column\n",
    "for col in all_columns:\n",
    "    print(f\"/nColumn: {col}\")\n",
    "    print(hr_dataset[col].unique())"
   ]
  },
  {
   "cell_type": "markdown",
   "id": "89191942-879d-4fbe-8444-ed55239190a6",
   "metadata": {},
   "source": [
    "The following columns are coded variables:\n",
    "\n",
    "- Education\n",
    "- EnvironmentSatisfaction\n",
    "- JobInvolvement\n",
    "- JobSatisfaction\n",
    "- PerformanceRating\n",
    "- RelationshipSatisfaction\n",
    "- WorkLifeBalance"
   ]
  },
  {
   "cell_type": "code",
   "execution_count": 7,
   "id": "856e9d2b-8434-402d-8505-a60227ec91e1",
   "metadata": {},
   "outputs": [
    {
     "name": "stdout",
     "output_type": "stream",
     "text": [
      "Number of duplicate EmployeeNumbers: 0\n"
     ]
    }
   ],
   "source": [
    "duplicate_employees = hr_dataset['EmployeeNumber'].duplicated().sum()\n",
    "print(f\"Number of duplicate EmployeeNumbers: {duplicate_employees}\")"
   ]
  },
  {
   "cell_type": "markdown",
   "id": "11294592-3a3a-45a2-b4a5-e0f71e53f941",
   "metadata": {},
   "source": [
    "## Data Assessment Summary\n",
    "\n",
    "In this section, I assessed the dataset by reviewing its structure and data types. All fields used appropriate data types, and no null values were present. Some variables were coded numerically (e.g., satisfaction scores, education levels), which can be converted to labeled categories for improved interpretability in charts. There were no relevant duplicate records, such as duplicate employee entries."
   ]
  },
  {
   "cell_type": "markdown",
   "id": "70f91ac5-d0b7-41f9-8c94-7bf10d0b0b63",
   "metadata": {},
   "source": [
    "## Data Cleaning and Transformation"
   ]
  },
  {
   "cell_type": "code",
   "execution_count": 8,
   "id": "5a3c5d4a-5ca4-4775-9ef7-961d60960abc",
   "metadata": {},
   "outputs": [],
   "source": [
    "# removing the coolumns not needed for analysis\n",
    "hr_dataset = hr_dataset[['Age', 'Attrition', 'BusinessTravel', \n",
    "            #'DailyRate', \n",
    "            'Department',\n",
    "       'DistanceFromHome', 'Education', \n",
    "            #'EducationField',\n",
    "        'EmployeeCount',\n",
    "       #'EmployeeNumber', 'EnvironmentSatisfaction', \n",
    "        'Gender', #'HourlyRate',\n",
    "      # 'JobInvolvement',\n",
    "            'JobLevel', \n",
    "            #'JobRole', 'JobSatisfaction',\n",
    "       #'MaritalStatus', \n",
    "        'MonthlyIncome', #'MonthlyRate', 'NumCompaniesWorked',\n",
    "      # 'Over18', 'OverTime', 'PercentSalaryHike', 'PerformanceRating',\n",
    "      # 'RelationshipSatisfaction', 'StandardHours', 'StockOptionLevel',\n",
    "       'TotalWorkingYears', #'TrainingTimesLastYear', \n",
    "        'WorkLifeBalance',\n",
    "       'YearsAtCompany', 'YearsInCurrentRole', 'YearsSinceLastPromotion',\n",
    "       'YearsWithCurrManager']].copy()"
   ]
  },
  {
   "cell_type": "code",
   "execution_count": 9,
   "id": "c8440a7f-1a8d-4e99-8089-21355ae3e8c6",
   "metadata": {},
   "outputs": [
    {
     "data": {
      "text/plain": [
       "(1470, 16)"
      ]
     },
     "execution_count": 9,
     "metadata": {},
     "output_type": "execute_result"
    }
   ],
   "source": [
    "hr_dataset.shape"
   ]
  },
  {
   "cell_type": "code",
   "execution_count": 10,
   "id": "33dbff65-81cd-4691-93c0-2dfea064d1c9",
   "metadata": {},
   "outputs": [
    {
     "data": {
      "text/plain": [
       "Index(['Age', 'Attrition', 'BusinessTravel', 'Department', 'DistanceFromHome',\n",
       "       'Education', 'EmployeeCount', 'Gender', 'JobLevel', 'MonthlyIncome',\n",
       "       'TotalWorkingYears', 'WorkLifeBalance', 'YearsAtCompany',\n",
       "       'YearsInCurrentRole', 'YearsSinceLastPromotion',\n",
       "       'YearsWithCurrManager'],\n",
       "      dtype='object')"
      ]
     },
     "execution_count": 10,
     "metadata": {},
     "output_type": "execute_result"
    }
   ],
   "source": [
    "hr_dataset.columns"
   ]
  },
  {
   "cell_type": "code",
   "execution_count": 11,
   "id": "8a371c4b-6243-443f-8898-3f1ee5c5b15b",
   "metadata": {},
   "outputs": [],
   "source": [
    "hr_dataset[\"New_Attrition_Value\"] = hr_dataset[\"Attrition\"].map({\"No\": 0, \"Yes\": 1})"
   ]
  },
  {
   "cell_type": "code",
   "execution_count": 12,
   "id": "4407e2e7-8ebe-4b6e-aee5-88bbdddda571",
   "metadata": {},
   "outputs": [],
   "source": [
    "hr_dataset[\"Education_Labels\"] = hr_dataset[\"Education\"].map({1: \"Below College\", 2: \"College\", 3: \"Bachelor\", 4: \"Master\", 5: \"Doctor\"})"
   ]
  },
  {
   "cell_type": "code",
   "execution_count": 13,
   "id": "712a72e3-2fb1-4474-8bc4-f56a2b8910d1",
   "metadata": {},
   "outputs": [],
   "source": [
    "hr_dataset[\"WorkLifeBalance_Labels\"] = hr_dataset[\"WorkLifeBalance\"].map({1: \"Bad\", 2: \"Good\", 3: \"Better\", 4: \"Best\"})"
   ]
  },
  {
   "cell_type": "code",
   "execution_count": 14,
   "id": "5d591140-5004-4795-a3e3-9318867e58f8",
   "metadata": {},
   "outputs": [
    {
     "name": "stdout",
     "output_type": "stream",
     "text": [
      "Overall Attrition Rate: 16.12%\n"
     ]
    }
   ],
   "source": [
    "overall_avg_attrition = hr_dataset['New_Attrition_Value'].mean()\n",
    "print(f\"Overall Attrition Rate: {overall_avg_attrition:.2%}\")"
   ]
  },
  {
   "cell_type": "markdown",
   "id": "858e606c-90cb-4481-a883-e6e8161680dd",
   "metadata": {},
   "source": [
    "### Data Cleaning and Transformation Summary\n",
    "\n",
    "In this section, columns that were not relevant to identifying department-level attrition trends were removed. Categorical string labels in the Attrition column were mapped to numeric values to allow for rate calculations. Additionally, numerical codes in columns such as Education and WorkLifeBalance were mapped to descriptive labels to improve interpretability in charts and summaries."
   ]
  },
  {
   "cell_type": "markdown",
   "id": "7947a2e3-49fb-413f-96cf-bc324337c5a2",
   "metadata": {},
   "source": [
    "## Univariate Analysis"
   ]
  },
  {
   "cell_type": "code",
   "execution_count": 15,
   "id": "b8b9f613-173e-4994-be66-0ce026e0883c",
   "metadata": {},
   "outputs": [
    {
     "data": {
      "text/plain": [
       "Attrition\n",
       "No     1233\n",
       "Yes     237\n",
       "Name: count, dtype: int64"
      ]
     },
     "execution_count": 15,
     "metadata": {},
     "output_type": "execute_result"
    }
   ],
   "source": [
    "hr_dataset['Attrition'].value_counts()"
   ]
  },
  {
   "cell_type": "code",
   "execution_count": 16,
   "id": "5cb88fc8-4273-42ff-82d1-25c3990029dd",
   "metadata": {},
   "outputs": [
    {
     "data": {
      "text/plain": [
       "Text(0.5, 1.0, 'Attrition Distribution')"
      ]
     },
     "execution_count": 16,
     "metadata": {},
     "output_type": "execute_result"
    },
    {
     "data": {
      "image/png": "[encoded data removed]",
      "text/plain": [
       "<Figure size 640x480 with 1 Axes>"
      ]
     },
     "metadata": {},
     "output_type": "display_data"
    }
   ],
   "source": [
    "sns.countplot(data=hr_dataset, x=\"Attrition\")\n",
    "plt.title(\"Attrition Distribution\")"
   ]
  },
  {
   "cell_type": "code",
   "execution_count": 17,
   "id": "0e5183bf-59b0-4911-afa4-dc80cf97e7c8",
   "metadata": {},
   "outputs": [
    {
     "data": {
      "text/plain": [
       "Text(0.5, 1.0, 'Age Distribution')"
      ]
     },
     "execution_count": 17,
     "metadata": {},
     "output_type": "execute_result"
    },
    {
     "data": {
      "image/png": "[encoded data removed]",
      "text/plain": [
       "<Figure size 640x480 with 1 Axes>"
      ]
     },
     "metadata": {},
     "output_type": "display_data"
    }
   ],
   "source": [
    "sns.histplot(data=hr_dataset, x=\"Age\", bins=15)\n",
    "plt.title(\"Age Distribution\")"
   ]
  },
  {
   "cell_type": "code",
   "execution_count": 18,
   "id": "6e6c4977-a101-413c-b31d-c44dc465ab34",
   "metadata": {},
   "outputs": [
    {
     "data": {
      "text/plain": [
       "Text(0.5, 1.0, 'Education Level Distribution')"
      ]
     },
     "execution_count": 18,
     "metadata": {},
     "output_type": "execute_result"
    },
    {
     "data": {
      "image/png": "[encoded data removed]",
      "text/plain": [
       "<Figure size 640x480 with 1 Axes>"
      ]
     },
     "metadata": {},
     "output_type": "display_data"
    }
   ],
   "source": [
    "sns.countplot(data=hr_dataset, x=\"Education_Labels\", order=[\"Below College\", \"College\", \"Bachelor\", \"Master\", \"Doctor\"])\n",
    "plt.title(\"Education Level Distribution\")"
   ]
  },
  {
   "cell_type": "code",
   "execution_count": 19,
   "id": "6e1d7389-164c-4381-867d-8e058016b27d",
   "metadata": {},
   "outputs": [
    {
     "name": "stdout",
     "output_type": "stream",
     "text": [
      "Department\n",
      "Research & Development    961\n",
      "Sales                     446\n",
      "Human Resources            63\n",
      "Name: count, dtype: int64\n"
     ]
    }
   ],
   "source": [
    "dept_counts = hr_dataset['Department'].value_counts()\n",
    "print(dept_counts)"
   ]
  },
  {
   "cell_type": "code",
   "execution_count": 20,
   "id": "aaeb66a2-6865-438f-a4fc-cd5f278aee9d",
   "metadata": {},
   "outputs": [
    {
     "name": "stdout",
     "output_type": "stream",
     "text": [
      "Department\n",
      "Research & Development    0.653741\n",
      "Sales                     0.303401\n",
      "Human Resources           0.042857\n",
      "Name: proportion, dtype: float64\n"
     ]
    }
   ],
   "source": [
    "dept_proportions = hr_dataset['Department'].value_counts(normalize=True)\n",
    "print(dept_proportions)"
   ]
  },
  {
   "cell_type": "code",
   "execution_count": 21,
   "id": "c6c6052f-5223-4509-8402-b627ca6f7370",
   "metadata": {},
   "outputs": [
    {
     "data": {
      "text/plain": [
       "Text(0.5, 1.0, 'Employees by Department')"
      ]
     },
     "execution_count": 21,
     "metadata": {},
     "output_type": "execute_result"
    },
    {
     "data": {
      "image/png": "[encoded data removed]",
      "text/plain": [
       "<Figure size 640x480 with 1 Axes>"
      ]
     },
     "metadata": {},
     "output_type": "display_data"
    }
   ],
   "source": [
    "sns.countplot(data=hr_dataset, x=\"Department\")\n",
    "plt.title(\"Employees by Department\")"
   ]
  },
  {
   "cell_type": "markdown",
   "id": "67757428-465e-4fc6-bd19-3e258d25857d",
   "metadata": {},
   "source": [
    "### Univariate Analysis Summary\n",
    "\n",
    "Univariate analysis revealed that more employees stay with the company than leave. The age distribution is well spread, ranging from 18 to 60 years old, with an average age of 37. Most employees hold a Bachelor's degree. \n",
    "\n",
    "The organization is divided into three departments: Sales, Research & Development, and Human Resources. The Research & Development department has the largest headcount, accounting for approximately 65% of the workforce.\n"
   ]
  },
  {
   "cell_type": "markdown",
   "id": "a0103e44-f808-484a-a2af-7ab76dc16acf",
   "metadata": {},
   "source": [
    "## Bivariate Analysis"
   ]
  },
  {
   "cell_type": "code",
   "execution_count": 22,
   "id": "f0d04633-5684-45f8-b07c-918c6d0f5f51",
   "metadata": {
    "scrolled": true
   },
   "outputs": [],
   "source": [
    "# Calculate attrition rate per department\n",
    "attrition_by_dept = hr_dataset.groupby('Department')['New_Attrition_Value'].mean().sort_values(ascending=False)"
   ]
  },
  {
   "cell_type": "code",
   "execution_count": 23,
   "id": "9bbb9037-b647-4c4c-bf0d-dc4311a229db",
   "metadata": {},
   "outputs": [
    {
     "name": "stdout",
     "output_type": "stream",
     "text": [
      "Department\n",
      "Sales                     0.206278\n",
      "Human Resources           0.190476\n",
      "Research & Development    0.138398\n",
      "Name: New_Attrition_Value, dtype: float64\n"
     ]
    }
   ],
   "source": [
    "print(attrition_by_dept)"
   ]
  },
  {
   "cell_type": "code",
   "execution_count": 24,
   "id": "a4b43f17-da22-4e94-8f47-a56296b93c4f",
   "metadata": {},
   "outputs": [
    {
     "data": {
      "image/png": "[encoded data removed]",
      "text/plain": [
       "<Figure size 640x480 with 1 Axes>"
      ]
     },
     "metadata": {},
     "output_type": "display_data"
    }
   ],
   "source": [
    "attrition_by_dept.plot(kind='bar', color='salmon')\n",
    "plt.title(\"Attrition Rate by Department\")\n",
    "plt.ylabel(\"Attrition Rate\")\n",
    "plt.xticks(rotation=0)\n",
    "plt.tight_layout()\n",
    "plt.show()"
   ]
  },
  {
   "cell_type": "code",
   "execution_count": 25,
   "id": "ede14a46-e91b-4861-a9c9-d1b349b2227b",
   "metadata": {},
   "outputs": [
    {
     "name": "stdout",
     "output_type": "stream",
     "text": [
      "Department\n",
      "Research & Development    133\n",
      "Sales                      92\n",
      "Human Resources            12\n",
      "Name: count, dtype: int64\n"
     ]
    }
   ],
   "source": [
    "# Number of employees who left, by department\n",
    "attrition_counts = hr_dataset[hr_dataset['Attrition'] == 'Yes']['Department'].value_counts()\n",
    "print(attrition_counts)"
   ]
  },
  {
   "cell_type": "code",
   "execution_count": 26,
   "id": "71c7d0f7-6f5f-4ae2-b82c-a64385b5beb0",
   "metadata": {},
   "outputs": [
    {
     "data": {
      "image/png": "[encoded data removed]",
      "text/plain": [
       "<Figure size 640x480 with 1 Axes>"
      ]
     },
     "metadata": {},
     "output_type": "display_data"
    }
   ],
   "source": [
    "attrition_counts.plot(kind='bar', color='steelblue')\n",
    "plt.title(\"Number of Employees Who Left by Department\")\n",
    "plt.ylabel(\"Number of Attritions\")\n",
    "plt.xticks(rotation=0)\n",
    "plt.tight_layout()\n",
    "plt.show()"
   ]
  },
  {
   "cell_type": "markdown",
   "id": "17b10047-66ef-45c3-9b89-45e4b84f37d4",
   "metadata": {},
   "source": [
    "While the Sales department has the highest attrition rate, the Research & Development department accounts for the highest number of total employee departures. This is primarly due to its larger size within the organization. Given the elevated attrition rates in sales, the next step is to explore which employee-level factors may be contributing to this trend. "
   ]
  },
  {
   "cell_type": "code",
   "execution_count": 27,
   "id": "fe4c02e0-cc3c-4d07-a995-064c2bc3f7aa",
   "metadata": {},
   "outputs": [],
   "source": [
    "# creating a dataframe consisting of only emloyees in the sales dept\n",
    "sales_employees = hr_dataset[hr_dataset[\"Department\"] == \"Sales\"]"
   ]
  },
  {
   "cell_type": "code",
   "execution_count": 28,
   "id": "c9ca85c9-c0ce-421b-96b2-3967258f765a",
   "metadata": {},
   "outputs": [],
   "source": [
    "def create_boxplot(data, x, y, title, xlabel=None, ylabel=None, palette=\"Set2\"):\n",
    "    \"\"\"\n",
    "    Creates a boxplot with consistent styling.\n",
    "    \n",
    "    Parameters:\n",
    "    - data: DataFrame to use\n",
    "    - x: column name for x-axis (usually 'Attrition')\n",
    "    - y: column name for y-axis (numeric variable)\n",
    "    - title: chart title\n",
    "    - xlabel: optional custom x-axis label\n",
    "    - ylabel: optional custom y-axis label\n",
    "    - palette: seaborn color palette\n",
    "    \"\"\"\n",
    "    sns.boxplot(data=data, x=x, y=y, hue=x, palette=palette, dodge=False)\n",
    "    plt.title(title)\n",
    "    if xlabel:\n",
    "        plt.xlabel(xlabel)\n",
    "    if ylabel:\n",
    "        plt.ylabel(ylabel)\n",
    "    plt.legend([], [], frameon=False)\n",
    "    plt.show()"
   ]
  },
  {
   "cell_type": "code",
   "execution_count": 29,
   "id": "f994aad9-4adb-4018-9908-fe11ba2b5840",
   "metadata": {},
   "outputs": [
    {
     "data": {
      "text/plain": [
       "Attrition\n",
       "No     36.0\n",
       "Yes    32.5\n",
       "Name: Age, dtype: float64"
      ]
     },
     "execution_count": 29,
     "metadata": {},
     "output_type": "execute_result"
    }
   ],
   "source": [
    "sales_employees.groupby(\"Attrition\")[\"Age\"].median()"
   ]
  },
  {
   "cell_type": "code",
   "execution_count": 30,
   "id": "f796330b-7006-42cc-948f-58b1a1654ae1",
   "metadata": {},
   "outputs": [
    {
     "data": {
      "image/png": "[encoded data removed]",
      "text/plain": [
       "<Figure size 640x480 with 1 Axes>"
      ]
     },
     "metadata": {},
     "output_type": "display_data"
    }
   ],
   "source": [
    "create_boxplot(data=sales_employees, x=\"Attrition\", y=\"Age\", title=\"Age Distribution by Attrition (Sales Department)\", ylabel=\"Age\")"
   ]
  },
  {
   "cell_type": "markdown",
   "id": "a6e159b3-32e6-4110-8d1e-7af7bce5f849",
   "metadata": {},
   "source": [
    "In the Sales department, employees who left had a median age of 32.5, compared to 36.0 for those who stayed. This suggests that younger employees may be more likely to leave the company."
   ]
  },
  {
   "cell_type": "code",
   "execution_count": 31,
   "id": "8cca4fd5-b13d-42fd-bf79-1587386dc4f3",
   "metadata": {},
   "outputs": [
    {
     "name": "stdout",
     "output_type": "stream",
     "text": [
      "Attrition\n",
      "No     6073.5\n",
      "Yes    5314.0\n",
      "Name: MonthlyIncome, dtype: float64\n"
     ]
    }
   ],
   "source": [
    "sales_grouped = sales_employees.groupby(\"Attrition\")[\"MonthlyIncome\"].median()\n",
    "print(sales_grouped)"
   ]
  },
  {
   "cell_type": "code",
   "execution_count": 32,
   "id": "2ab6c7a7-9779-4866-9519-b71897e1e744",
   "metadata": {},
   "outputs": [
    {
     "data": {
      "image/png": "[encoded data removed]",
      "text/plain": [
       "<Figure size 640x480 with 1 Axes>"
      ]
     },
     "metadata": {},
     "output_type": "display_data"
    }
   ],
   "source": [
    "create_boxplot(data=sales_employees, x=\"Attrition\", y=\"MonthlyIncome\", title=\"Monthly Income in Sales by Attrition Status\", ylabel=\"Monthly Income\")"
   ]
  },
  {
   "cell_type": "markdown",
   "id": "8199097a-b192-46ba-9070-e56c88535244",
   "metadata": {},
   "source": [
    "The median monthly income for Sales employees who left was approximately $760 less than who who stayed, indiciating that lower income may be a contributing factor to attrition in this department."
   ]
  },
  {
   "cell_type": "code",
   "execution_count": 33,
   "id": "d334bb4b-8002-4b5c-be05-072712774555",
   "metadata": {},
   "outputs": [
    {
     "data": {
      "image/png": "[encoded data removed]",
      "text/plain": [
       "<Figure size 640x480 with 1 Axes>"
      ]
     },
     "metadata": {},
     "output_type": "display_data"
    }
   ],
   "source": [
    "create_boxplot(data=sales_employees, x=\"Attrition\", y=\"YearsSinceLastPromotion\", title=\"Time Since Last Promotion by Attrition (Sales Department)\", ylabel=\"Years Since Last Promotion\")"
   ]
  },
  {
   "cell_type": "markdown",
   "id": "0683b41f-a103-42af-9cfc-0ee08fd966d4",
   "metadata": {},
   "source": [
    "Time since last promotion does not appear to have a significant impact on employee attrition in the Sales department. Both employees who left and those who stayed have similar distributions, with most having been promoted within the last 0–2 years."
   ]
  },
  {
   "cell_type": "code",
   "execution_count": 34,
   "id": "b1a8e7a9-8962-4ac1-89b4-ac1cef0def7b",
   "metadata": {},
   "outputs": [
    {
     "data": {
      "image/png": "[encoded data removed]",
      "text/plain": [
       "<Figure size 640x480 with 1 Axes>"
      ]
     },
     "metadata": {},
     "output_type": "display_data"
    }
   ],
   "source": [
    "create_boxplot(data=sales_employees, x=\"Attrition\", y=\"DistanceFromHome\", title=\"Distance from Home by Attrition (Sales Department)\", ylabel=\"Distance From Home\")"
   ]
  },
  {
   "cell_type": "markdown",
   "id": "ada853dd-16f8-450b-97e2-e857dddf4c4f",
   "metadata": {},
   "source": [
    "Employees who left the company tended to live farther from the office than those who stayed. The median commute distance was higher for the attrition group (those that left), and the overall spread of distances was wider as well, ranging from a little less than 5km to a little over 15km."
   ]
  },
  {
   "cell_type": "code",
   "execution_count": 35,
   "id": "cea56eb3-5306-4242-a944-bbbf4df383b8",
   "metadata": {},
   "outputs": [
    {
     "data": {
      "image/png": "[encoded data removed]",
      "text/plain": [
       "<Figure size 640x480 with 1 Axes>"
      ]
     },
     "metadata": {},
     "output_type": "display_data"
    }
   ],
   "source": [
    "sns.countplot(data=sales_employees, x=\"WorkLifeBalance\", hue=\"Attrition\", palette=\"Set2\")\n",
    "plt.title(\"Work Life Balance by Attrition (Sales Department)\")\n",
    "plt.xlabel(\"Work Life Balance (1 = Bad, 4 = Best)\")\n",
    "plt.ylabel(\"Employee Count\")\n",
    "plt.show()"
   ]
  },
  {
   "cell_type": "markdown",
   "id": "31ddf5e8-4096-4cc2-beee-770986421172",
   "metadata": {},
   "source": [
    "Employees who stayed with the company were more likely to report higher work-life balance scores, particularly at level 3. In contrast, those who left the company were more evenly distributed across lower satisfaction levels (1–3), with fewer reporting high satisfaction (4). This suggests that lower work-life balance may be a contributing factor to attrition in the Sales department."
   ]
  },
  {
   "cell_type": "markdown",
   "id": "50058ca0-8b86-4d29-a9f2-08dc8db52838",
   "metadata": {},
   "source": [
    "## Summary and Recommendations\n",
    "\n",
    "This project explored an HR dataset to address the question: *Which departments experience the highest attrition, and what employee-level factors may be contributing to this trend?*\n",
    "\n",
    "The analysis revealed that the **Sales department has the highest attrition rate** across the company. Further exploration into this department identified several factors associated with higher attrition, including **younger age**, **lower monthly income**, **longer commute distance**, **lower work-life balance ratings**, and **varying education levels**.\n",
    "\n",
    "These findings suggest that attrition in Sales may be influenced by a combination of personal and workplace-related factors. Organizations may benefit from targeted retention strategies, such as improving flexibility for employees with long commutes, offering competitive compensation, and supporting work-life balance initiatives within this department."
   ]
  },
  {
   "cell_type": "code",
   "execution_count": null,
   "id": "17268d5a-7731-4715-b43f-0c00d6921b73",
   "metadata": {},
   "outputs": [],
   "source": []
  }
 ],
 "metadata": {
  "kernelspec": {
   "display_name": "Python 3 (ipykernel)",
   "language": "python",
   "name": "python3"
  },
  "language_info": {
   "codemirror_mode": {
    "name": "ipython",
    "version": 3
   },
   "file_extension": ".py",
   "mimetype": "text/x-python",
   "name": "python",
   "nbconvert_exporter": "python",
   "pygments_lexer": "ipython3",
   "version": "3.12.7"
  }
 },
 "nbformat": 4,
 "nbformat_minor": 5
}
